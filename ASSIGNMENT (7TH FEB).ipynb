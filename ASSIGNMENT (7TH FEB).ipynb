{
 "cells": [
  {
   "cell_type": "code",
   "execution_count": 6,
   "id": "00ca1a96",
   "metadata": {},
   "outputs": [
    {
     "name": "stdout",
     "output_type": "stream",
     "text": [
      "enter the password12AAaa@@@w\n"
     ]
    },
    {
     "data": {
      "text/plain": [
       "'Valid Password'"
      ]
     },
     "execution_count": 6,
     "metadata": {},
     "output_type": "execute_result"
    }
   ],
   "source": [
    "#QUES1\n",
    "\n",
    "def checkpwd(pwd):\n",
    "    length = len(pwd)\n",
    "    uppercase = 0\n",
    "    lowercase = 0\n",
    "    num = 0\n",
    "    specialchar=0\n",
    "    for  i in pwd:\n",
    "        if i.isalpha()==True:\n",
    "            if i.isupper()==True:\n",
    "                uppercase += 1\n",
    "            else:\n",
    "                lowercase += 1\n",
    "        elif i.isnumeric()==True:\n",
    "            num += 1\n",
    "        else:\n",
    "            specialchar += 1\n",
    "    if length == 10 and uppercase>=2 and lowercase >=2 and num>=1 and specialchar >= 3:\n",
    "        return \"Valid Password\"\n",
    "    else:\n",
    "        return \"Invalid Password\"\n",
    "    \n",
    "pwd = input(\"enter the password\")\n",
    "checkpwd(pwd)    "
   ]
  },
  {
   "cell_type": "code",
   "execution_count": null,
   "id": "d8e3fcb2",
   "metadata": {},
   "outputs": [],
   "source": [
    "#ques2"
   ]
  },
  {
   "cell_type": "code",
   "execution_count": 10,
   "id": "d53cf39f",
   "metadata": {},
   "outputs": [
    {
     "name": "stdout",
     "output_type": "stream",
     "text": [
      "enter the stringanjali\n",
      "enter a particular letterb\n",
      "the given string does not start with the given letter\n"
     ]
    }
   ],
   "source": [
    "str1 = input(\"enter the string\")\n",
    "letter = input(\"enter a particular letter\")\n",
    "ans =str(True if str1[0]==letter else False)\n",
    "if(ans==True):\n",
    "    print(\"the given string start with the given letter\")\n",
    "else:\n",
    "    print(\"the given string does not start with the given letter\")\n"
   ]
  },
  {
   "cell_type": "code",
   "execution_count": 37,
   "id": "1e3df96c",
   "metadata": {},
   "outputs": [
    {
     "name": "stdout",
     "output_type": "stream",
     "text": [
      "enter the stringjghkhk\n",
      "the given string is not numeric\n"
     ]
    }
   ],
   "source": [
    "str1 = str(input(\"enter the string\"))\n",
    "ans = lambda str1 : str1.isnumeric()\n",
    "if(ans(str1)==True):\n",
    "    print(\"the given string is numeric\")\n",
    "else:\n",
    "    print(\"the given string is not numeric\")\n",
    "\n"
   ]
  },
  {
   "cell_type": "code",
   "execution_count": 46,
   "id": "6bdbba70",
   "metadata": {},
   "outputs": [
    {
     "name": "stdout",
     "output_type": "stream",
     "text": [
      "[('orange', 80), ('mango', 99), ('grapes', 1000)] sorted on the basis of quantity\n",
      "[('grapes', 1000), ('mango', 99), ('orange', 80)] sorted on the basis of fruit name\n"
     ]
    }
   ],
   "source": [
    "li=[(\"mango\" ,99) ,(\"orange\" , 80) ,(\"grapes\" , 1000)]\n",
    "li.sort(key = lambda x : x[1])\n",
    "print(li,\"sorted on the basis of quantity\")\n",
    "li.sort(key = lambda x : x[0])\n",
    "print(li,\"sorted on the basis of fruit name\")"
   ]
  },
  {
   "cell_type": "code",
   "execution_count": 49,
   "id": "e8cfe3ee",
   "metadata": {},
   "outputs": [
    {
     "name": "stdout",
     "output_type": "stream",
     "text": [
      "1\n",
      "4\n",
      "9\n",
      "16\n",
      "25\n",
      "36\n",
      "49\n",
      "64\n",
      "81\n",
      "100\n"
     ]
    }
   ],
   "source": [
    "# find square of numbers from 1 to 10\n",
    "sq = lambda i : i*i\n",
    "for i in range(1,11):\n",
    "    print(sq(i))"
   ]
  },
  {
   "cell_type": "code",
   "execution_count": 53,
   "id": "a68c293e",
   "metadata": {},
   "outputs": [
    {
     "name": "stdout",
     "output_type": "stream",
     "text": [
      "1.0\n",
      "1.2599210498948732\n",
      "1.4422495703074083\n",
      "1.5874010519681994\n",
      "1.7099759466766968\n",
      "1.8171205928321397\n",
      "1.912931182772389\n",
      "2.0\n",
      "2.080083823051904\n",
      "2.154434690031884\n"
     ]
    }
   ],
   "source": [
    "cuberoot = lambda i : i**(1/3)\n",
    "for i in range(1,11):\n",
    "    print(cuberoot(i))"
   ]
  },
  {
   "cell_type": "code",
   "execution_count": 55,
   "id": "25bca9e7",
   "metadata": {},
   "outputs": [
    {
     "name": "stdout",
     "output_type": "stream",
     "text": [
      "enter a number5\n"
     ]
    },
    {
     "data": {
      "text/plain": [
       "False"
      ]
     },
     "execution_count": 55,
     "metadata": {},
     "output_type": "execute_result"
    }
   ],
   "source": [
    "num=int(input(\"enter a number\"))\n",
    "is_even = lambda num : num%2==0\n",
    "is_even(num)"
   ]
  },
  {
   "cell_type": "code",
   "execution_count": 56,
   "id": "c6a95429",
   "metadata": {},
   "outputs": [
    {
     "name": "stdout",
     "output_type": "stream",
     "text": [
      "[1, 3, 5, 7, 9]\n"
     ]
    }
   ],
   "source": [
    "list1 = [1,2,3,4,5,6,7,8,9,10]\n",
    "filtered_li = list(filter(lambda x : x%2!=0  ,list1))\n",
    "print(filtered_li)"
   ]
  },
  {
   "cell_type": "code",
   "execution_count": 61,
   "id": "b09d4768",
   "metadata": {},
   "outputs": [
    {
     "name": "stdout",
     "output_type": "stream",
     "text": [
      "[1, 2, 3, 4, 5, 6, 0] <-- positive list\n",
      "[-1, -2, -4, -5] <-- negative list\n"
     ]
    }
   ],
   "source": [
    "li = [1,2,3,4,5,6,-1,-2,-4,-5,0]\n",
    "pos_list = [x for x in li if x>=0]\n",
    "neg_list = [y for y in li if y<0]\n",
    "print(pos_list,\"<-- positive list\")\n",
    "print(neg_list,\"<-- negative list\")\n",
    "\n"
   ]
  }
 ],
 "metadata": {
  "kernelspec": {
   "display_name": "Python 3 (ipykernel)",
   "language": "python",
   "name": "python3"
  },
  "language_info": {
   "codemirror_mode": {
    "name": "ipython",
    "version": 3
   },
   "file_extension": ".py",
   "mimetype": "text/x-python",
   "name": "python",
   "nbconvert_exporter": "python",
   "pygments_lexer": "ipython3",
   "version": "3.9.12"
  }
 },
 "nbformat": 4,
 "nbformat_minor": 5
}
